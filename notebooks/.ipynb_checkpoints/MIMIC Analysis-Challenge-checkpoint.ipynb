{
 "cells": [
  {
   "cell_type": "markdown",
   "metadata": {},
   "source": [
    "<table>\n",
    "<tr>\n",
    "    <td width=10%><img src=\"../img/logo_lri.jpg\"></td>\n",
    "    <td width=30%><img src=\"../img/medi-chal_logo.png\" height=15%></img></td>\n",
    "</tr>\n",
    "\n",
    "</table>"
   ]
  },
  {
   "cell_type": "markdown",
   "metadata": {},
   "source": [
    "<br/><br/><div id=\"top\"></div>\n",
    "\n",
    "<center><a style=\"font-size: 40pt; font-weight: bold\">Challenge - Binary Classification </a></center>\n",
    "<center><font size=\"5\">Gerspacher Thomas</font></center>\n",
    "<br/>\n",
    "\n",
    "---"
   ]
  },
  {
   "cell_type": "code",
   "execution_count": 1,
   "metadata": {},
   "outputs": [],
   "source": [
    "%matplotlib inline\n",
    "%reload_ext autoreload\n",
    "%autoreload 2"
   ]
  },
  {
   "cell_type": "code",
   "execution_count": 93,
   "metadata": {},
   "outputs": [],
   "source": [
    "import sys \n",
    "sys.path.append('../lib/functions')\n",
    "sys.path.append('../')"
   ]
  },
  {
   "cell_type": "code",
   "execution_count": 94,
   "metadata": {},
   "outputs": [
    {
     "name": "stdout",
     "output_type": "stream",
     "text": [
      "numpy               :\t1.14.4\n",
      "matplotlib          :\t2.2.2\n",
      "pandas              :\t0.23.0\n",
      "sklearn             :\t0.19.1\n"
     ]
    }
   ],
   "source": [
    "import lib.nb_settings as nbs\n",
    "\n",
    "packages = ['numpy', 'matplotlib', 'pandas' , 'sklearn']\n",
    "nbs.check_packages(packages)"
   ]
  },
  {
   "cell_type": "code",
   "execution_count": 2,
   "metadata": {},
   "outputs": [],
   "source": [
    "import pandas as pd\n",
    "import numpy as np\n",
    "import matplotlib.pyplot as plt"
   ]
  },
  {
   "cell_type": "markdown",
   "metadata": {},
   "source": [
    "<b><font size=\"5\">Outline</font></b><br/><br/>\n",
    "&emsp;&emsp;&emsp; I) <a href=\"#Mimic\"> Data loading & analysis </a><br/>\n",
    "&emsp;&emsp;&emsp; II) <a href=\"#Preproc\"> Preprocessing </a><br/>\n",
    "&emsp;&emsp;&emsp; III) <a href=\"#Baseline\"> Baseline model </a><br/>"
   ]
  },
  {
   "cell_type": "markdown",
   "metadata": {},
   "source": [
    "## <a id=\"Mimic\"> I) Data loading & analysis </a>  \n",
    "\n",
    "MIMIC-III is an openly available dataset developed by the MIT Lab for Computational Physiology, comprising deidentified health data associated with ~30,000 critical care patients. It includes demographics, vital signs, laboratory tests, medications, and more."
   ]
  },
  {
   "cell_type": "code",
   "execution_count": 22,
   "metadata": {},
   "outputs": [],
   "source": [
    "features = pd.read_csv('../data/synth_mimic/mimic_synthetic_feat.name',header=None).values.flatten()\n",
    "labels = pd.read_csv('../data/synth_mimic/mimic_synthetic_label.name', header=None).values.flatten()"
   ]
  },
  {
   "cell_type": "code",
   "execution_count": 51,
   "metadata": {},
   "outputs": [],
   "source": [
    "X = pd.read_csv('../data/synth_mimic/mimic_synthetic_train.data', header=None, names=features, sep=' ')\n",
    "y = pd.read_csv('../data/synth_mimic/mimic_synthetic_train.solution', header=None, names=labels, sep=' ')"
   ]
  },
  {
   "cell_type": "code",
   "execution_count": 57,
   "metadata": {},
   "outputs": [
    {
     "data": {
      "text/html": [
       "<div>\n",
       "<style scoped>\n",
       "    .dataframe tbody tr th:only-of-type {\n",
       "        vertical-align: middle;\n",
       "    }\n",
       "\n",
       "    .dataframe tbody tr th {\n",
       "        vertical-align: top;\n",
       "    }\n",
       "\n",
       "    .dataframe thead th {\n",
       "        text-align: right;\n",
       "    }\n",
       "</style>\n",
       "<table border=\"1\" class=\"dataframe\">\n",
       "  <thead>\n",
       "    <tr style=\"text-align: right;\">\n",
       "      <th></th>\n",
       "      <th>INSURANCE</th>\n",
       "      <th>LANGUAGE</th>\n",
       "      <th>RELIGION</th>\n",
       "      <th>MARITAL_STATUS</th>\n",
       "      <th>ETHNICITY</th>\n",
       "      <th>GENDER</th>\n",
       "      <th>AGE</th>\n",
       "      <th>LOS</th>\n",
       "      <th>HR_MIN_DAY1</th>\n",
       "      <th>HR_MAX_DAY1</th>\n",
       "      <th>...</th>\n",
       "      <th>94</th>\n",
       "      <th>95</th>\n",
       "      <th>96</th>\n",
       "      <th>97</th>\n",
       "      <th>98</th>\n",
       "      <th>99</th>\n",
       "      <th>SUBJECT_ID</th>\n",
       "      <th>HADM_ID</th>\n",
       "      <th>ADMITTIME</th>\n",
       "      <th>DISCHTIME</th>\n",
       "    </tr>\n",
       "  </thead>\n",
       "  <tbody>\n",
       "    <tr>\n",
       "      <th>0</th>\n",
       "      <td>Self_Pay</td>\n",
       "      <td>ENGL</td>\n",
       "      <td>UNOBTAINABLE</td>\n",
       "      <td>MARRIED</td>\n",
       "      <td>WHITE</td>\n",
       "      <td>F</td>\n",
       "      <td>30</td>\n",
       "      <td>2.542461</td>\n",
       "      <td>93.322235</td>\n",
       "      <td>123.16911</td>\n",
       "      <td>...</td>\n",
       "      <td>0</td>\n",
       "      <td>0.0</td>\n",
       "      <td>0</td>\n",
       "      <td>0</td>\n",
       "      <td>0</td>\n",
       "      <td>0</td>\n",
       "      <td>80347</td>\n",
       "      <td>197276</td>\n",
       "      <td>2160-08-19_07:15:00</td>\n",
       "      <td>2148-08-27_18:38:00</td>\n",
       "    </tr>\n",
       "    <tr>\n",
       "      <th>1</th>\n",
       "      <td>Private</td>\n",
       "      <td>ENGL</td>\n",
       "      <td>UNOBTAINABLE</td>\n",
       "      <td>WIDOWED</td>\n",
       "      <td>WHITE</td>\n",
       "      <td>F</td>\n",
       "      <td>90</td>\n",
       "      <td>1.145959</td>\n",
       "      <td>68.558480</td>\n",
       "      <td>106.50887</td>\n",
       "      <td>...</td>\n",
       "      <td>0</td>\n",
       "      <td>0.0</td>\n",
       "      <td>0</td>\n",
       "      <td>0</td>\n",
       "      <td>1</td>\n",
       "      <td>0</td>\n",
       "      <td>17800</td>\n",
       "      <td>104868</td>\n",
       "      <td>2126-12-17_02:54:00</td>\n",
       "      <td>2177-05-11_18:00:00</td>\n",
       "    </tr>\n",
       "    <tr>\n",
       "      <th>2</th>\n",
       "      <td>Self_Pay</td>\n",
       "      <td>ENGL</td>\n",
       "      <td>CATHOLIC</td>\n",
       "      <td>MARRIED</td>\n",
       "      <td>WHITE</td>\n",
       "      <td>M</td>\n",
       "      <td>85</td>\n",
       "      <td>1.165153</td>\n",
       "      <td>68.755875</td>\n",
       "      <td>81.70236</td>\n",
       "      <td>...</td>\n",
       "      <td>0</td>\n",
       "      <td>0.0</td>\n",
       "      <td>0</td>\n",
       "      <td>0</td>\n",
       "      <td>1</td>\n",
       "      <td>0</td>\n",
       "      <td>20929</td>\n",
       "      <td>174037</td>\n",
       "      <td>2196-11-17_09:19:00</td>\n",
       "      <td>2147-08-30_12:40:00</td>\n",
       "    </tr>\n",
       "    <tr>\n",
       "      <th>3</th>\n",
       "      <td>Medicare</td>\n",
       "      <td>ENGL</td>\n",
       "      <td>OTHER</td>\n",
       "      <td>MARRIED</td>\n",
       "      <td>WHITE</td>\n",
       "      <td>F</td>\n",
       "      <td>78</td>\n",
       "      <td>5.010655</td>\n",
       "      <td>71.721250</td>\n",
       "      <td>94.96350</td>\n",
       "      <td>...</td>\n",
       "      <td>0</td>\n",
       "      <td>0.0</td>\n",
       "      <td>0</td>\n",
       "      <td>0</td>\n",
       "      <td>1</td>\n",
       "      <td>0</td>\n",
       "      <td>53679</td>\n",
       "      <td>125550</td>\n",
       "      <td>2132-09-01_23:24:00</td>\n",
       "      <td>2120-09-04_11:45:00</td>\n",
       "    </tr>\n",
       "    <tr>\n",
       "      <th>4</th>\n",
       "      <td>Medicare</td>\n",
       "      <td>ENGL</td>\n",
       "      <td>EPISCOPALIAN</td>\n",
       "      <td>WIDOWED</td>\n",
       "      <td>WHITE</td>\n",
       "      <td>M</td>\n",
       "      <td>79</td>\n",
       "      <td>1.244071</td>\n",
       "      <td>73.296410</td>\n",
       "      <td>117.31879</td>\n",
       "      <td>...</td>\n",
       "      <td>0</td>\n",
       "      <td>0.0</td>\n",
       "      <td>1</td>\n",
       "      <td>0</td>\n",
       "      <td>1</td>\n",
       "      <td>0</td>\n",
       "      <td>63557</td>\n",
       "      <td>191348</td>\n",
       "      <td>2109-11-26_11:30:00</td>\n",
       "      <td>2132-02-22_17:40:00</td>\n",
       "    </tr>\n",
       "  </tbody>\n",
       "</table>\n",
       "<p>5 rows × 342 columns</p>\n",
       "</div>"
      ],
      "text/plain": [
       "  INSURANCE LANGUAGE      RELIGION MARITAL_STATUS ETHNICITY GENDER  AGE  \\\n",
       "0  Self_Pay     ENGL  UNOBTAINABLE        MARRIED     WHITE      F   30   \n",
       "1   Private     ENGL  UNOBTAINABLE        WIDOWED     WHITE      F   90   \n",
       "2  Self_Pay     ENGL      CATHOLIC        MARRIED     WHITE      M   85   \n",
       "3  Medicare     ENGL         OTHER        MARRIED     WHITE      F   78   \n",
       "4  Medicare     ENGL  EPISCOPALIAN        WIDOWED     WHITE      M   79   \n",
       "\n",
       "        LOS  HR_MIN_DAY1  HR_MAX_DAY1         ...           94   95  96  97  \\\n",
       "0  2.542461    93.322235    123.16911         ...            0  0.0   0   0   \n",
       "1  1.145959    68.558480    106.50887         ...            0  0.0   0   0   \n",
       "2  1.165153    68.755875     81.70236         ...            0  0.0   0   0   \n",
       "3  5.010655    71.721250     94.96350         ...            0  0.0   0   0   \n",
       "4  1.244071    73.296410    117.31879         ...            0  0.0   1   0   \n",
       "\n",
       "   98  99  SUBJECT_ID  HADM_ID            ADMITTIME            DISCHTIME  \n",
       "0   0   0       80347   197276  2160-08-19_07:15:00  2148-08-27_18:38:00  \n",
       "1   1   0       17800   104868  2126-12-17_02:54:00  2177-05-11_18:00:00  \n",
       "2   1   0       20929   174037  2196-11-17_09:19:00  2147-08-30_12:40:00  \n",
       "3   1   0       53679   125550  2132-09-01_23:24:00  2120-09-04_11:45:00  \n",
       "4   1   0       63557   191348  2109-11-26_11:30:00  2132-02-22_17:40:00  \n",
       "\n",
       "[5 rows x 342 columns]"
      ]
     },
     "execution_count": 57,
     "metadata": {},
     "output_type": "execute_result"
    }
   ],
   "source": [
    "X.head()"
   ]
  },
  {
   "cell_type": "markdown",
   "metadata": {},
   "source": [
    "##### Variables types"
   ]
  },
  {
   "cell_type": "code",
   "execution_count": 61,
   "metadata": {},
   "outputs": [],
   "source": [
    "from utilities import types\n",
    "types = types(X)"
   ]
  },
  {
   "cell_type": "code",
   "execution_count": 54,
   "metadata": {},
   "outputs": [
    {
     "name": "stdout",
     "output_type": "stream",
     "text": [
      "Binary         279\n",
      "Numerical       52\n",
      "Categorical     11\n",
      "Name: type, dtype: int64\n"
     ]
    }
   ],
   "source": [
    "print(types.value_counts())"
   ]
  },
  {
   "cell_type": "markdown",
   "metadata": {},
   "source": [
    "Categorical variables: \n",
    "    - Demographic: Insurance, Language, Religion, Marital status, Ethnicity & Age\n",
    "    - ICU (Unit where the patient is): CCU, CSRU, MICU, SICU, TSICU\n",
    "    \n",
    "Binary variables:\n",
    "    - Demographic: Gender\n",
    "    - Diagnosis (Whether the patient contracted the disease or not)\n",
    "    - Survival (Whether the patient dies during his stay or not)\n",
    "    \n",
    "Numerical variables:\n",
    "    - Length of stay\n",
    "    - First daily vitals: Heart rate, Blood Pressure, ...\n",
    "    - Second daily vitals: Heart rate, Blood Pressure, ..."
   ]
  },
  {
   "cell_type": "markdown",
   "metadata": {},
   "source": [
    "###### Imbalance class problem\n",
    "    - more than 90% of patients survived after their stay at the hospital\n",
    "    - less than 10% of patients die during their stay at the hospital"
   ]
  },
  {
   "cell_type": "code",
   "execution_count": 55,
   "metadata": {},
   "outputs": [
    {
     "data": {
      "text/plain": [
       "0    0.965429\n",
       "1    0.034571\n",
       "Name: DIED, dtype: float64"
      ]
     },
     "execution_count": 55,
     "metadata": {},
     "output_type": "execute_result"
    }
   ],
   "source": [
    "y['DIED'].value_counts(normalize=True)"
   ]
  },
  {
   "cell_type": "markdown",
   "metadata": {},
   "source": [
    "## Analysis\n",
    "\n",
    "### Categorical variables"
   ]
  },
  {
   "cell_type": "markdown",
   "metadata": {},
   "source": [
    "##### Distribution of patients according to ICU"
   ]
  },
  {
   "cell_type": "code",
   "execution_count": 46,
   "metadata": {},
   "outputs": [],
   "source": [
    "def relative_frequency(df, column):\n",
    "    return df[column].value_counts(normalize=True).sort_index()\n",
    "\n",
    "def relative_frequency_plot(df, column):\n",
    "    fig, ax = plt.subplots(figsize=(13, 6))\n",
    "    rel_freq = relative_frequency(df, column)\n",
    "    rel_freq.plot(kind='bar', title='Relative frequency of patients according to ' + column, ax=ax, color='b')\n",
    "    ax.set_xlabel(column)\n",
    "    ax.set_ylabel('Relative Frequency')\n",
    "    plt.show()"
   ]
  },
  {
   "cell_type": "code",
   "execution_count": 47,
   "metadata": {},
   "outputs": [
    {
     "data": {
      "image/png": "[encoded data removed]",
      "text/plain": [
       "<Figure size 936x432 with 1 Axes>"
      ]
     },
     "metadata": {},
     "output_type": "display_data"
    }
   ],
   "source": [
    "relative_frequency_plot(X, 'ICU')"
   ]
  },
  {
   "cell_type": "markdown",
   "metadata": {},
   "source": [
    "Most of the patients (~35%) are taken to Medical Intensive Care Unit and the rest are dispatched between the other units."
   ]
  },
  {
   "cell_type": "markdown",
   "metadata": {},
   "source": [
    "#### Distribution of patients according to Age"
   ]
  },
  {
   "cell_type": "code",
   "execution_count": 48,
   "metadata": {},
   "outputs": [
    {
     "data": {
      "image/png": "[encoded data removed]",
      "text/plain": [
       "<Figure size 936x432 with 1 Axes>"
      ]
     },
     "metadata": {},
     "output_type": "display_data"
    }
   ],
   "source": [
    "relative_frequency_plot(X, column='AGE')"
   ]
  },
  {
   "cell_type": "markdown",
   "metadata": {},
   "source": [
    "Age contains negative values which, after some digging, correspond to people whose age is beyond 88 and is not well handled by what records the age.\n",
    "\n",
    "We can also see a tendancy that age is correlated with the death during the stay at the hospital (the older, the more chances the patient dies)."
   ]
  },
  {
   "cell_type": "markdown",
   "metadata": {},
   "source": [
    "## <a id=\"Preproc\"> II) Preprocessing </a>  \n"
   ]
  },
  {
   "cell_type": "code",
   "execution_count": 78,
   "metadata": {},
   "outputs": [
    {
     "name": "stderr",
     "output_type": "stream",
     "text": [
      "/Library/Frameworks/Python.framework/Versions/3.5/lib/python3.5/site-packages/ipykernel_launcher.py:6: SettingWithCopyWarning: \n",
      "A value is trying to be set on a copy of a slice from a DataFrame\n",
      "\n",
      "See the caveats in the documentation: http://pandas.pydata.org/pandas-docs/stable/indexing.html#indexing-view-versus-copy\n",
      "  \n"
     ]
    }
   ],
   "source": [
    "from sklearn.preprocessing import LabelEncoder\n",
    "\n",
    "X = X.drop(['ADMITTIME', 'DISCHTIME', 'SUBJECT_ID', 'HADM_ID'], axis=1)\n",
    "\n",
    "X = X.dropna(axis=1)\n",
    "\n",
    "for column in types[types=='Categorical'].index.values:\n",
    "    le = LabelEncoder()\n",
    "    mask = ~X[column].isnull()\n",
    "    X[column][mask] = le.fit_transform(X[column][mask])\n",
    "    \n",
    "X['GENDER'] = LabelEncoder().fit_transform(X['GENDER'])"
   ]
  },
  {
   "cell_type": "code",
   "execution_count": 79,
   "metadata": {},
   "outputs": [
    {
     "data": {
      "text/html": [
       "<div>\n",
       "<style scoped>\n",
       "    .dataframe tbody tr th:only-of-type {\n",
       "        vertical-align: middle;\n",
       "    }\n",
       "\n",
       "    .dataframe tbody tr th {\n",
       "        vertical-align: top;\n",
       "    }\n",
       "\n",
       "    .dataframe thead th {\n",
       "        text-align: right;\n",
       "    }\n",
       "</style>\n",
       "<table border=\"1\" class=\"dataframe\">\n",
       "  <thead>\n",
       "    <tr style=\"text-align: right;\">\n",
       "      <th></th>\n",
       "      <th>INSURANCE</th>\n",
       "      <th>LANGUAGE</th>\n",
       "      <th>RELIGION</th>\n",
       "      <th>MARITAL_STATUS</th>\n",
       "      <th>ETHNICITY</th>\n",
       "      <th>GENDER</th>\n",
       "      <th>AGE</th>\n",
       "      <th>LOS</th>\n",
       "      <th>HR_MIN_DAY1</th>\n",
       "      <th>HR_MAX_DAY1</th>\n",
       "      <th>...</th>\n",
       "      <th>90</th>\n",
       "      <th>91</th>\n",
       "      <th>92</th>\n",
       "      <th>93</th>\n",
       "      <th>94</th>\n",
       "      <th>95</th>\n",
       "      <th>96</th>\n",
       "      <th>97</th>\n",
       "      <th>98</th>\n",
       "      <th>99</th>\n",
       "    </tr>\n",
       "  </thead>\n",
       "  <tbody>\n",
       "    <tr>\n",
       "      <th>0</th>\n",
       "      <td>4</td>\n",
       "      <td>45</td>\n",
       "      <td>19</td>\n",
       "      <td>2</td>\n",
       "      <td>36</td>\n",
       "      <td>0</td>\n",
       "      <td>14</td>\n",
       "      <td>2.542461</td>\n",
       "      <td>93.322235</td>\n",
       "      <td>123.16911</td>\n",
       "      <td>...</td>\n",
       "      <td>0</td>\n",
       "      <td>0</td>\n",
       "      <td>0</td>\n",
       "      <td>0</td>\n",
       "      <td>0</td>\n",
       "      <td>0.0</td>\n",
       "      <td>0</td>\n",
       "      <td>0</td>\n",
       "      <td>0</td>\n",
       "      <td>0</td>\n",
       "    </tr>\n",
       "    <tr>\n",
       "      <th>1</th>\n",
       "      <td>3</td>\n",
       "      <td>45</td>\n",
       "      <td>19</td>\n",
       "      <td>6</td>\n",
       "      <td>36</td>\n",
       "      <td>0</td>\n",
       "      <td>73</td>\n",
       "      <td>1.145959</td>\n",
       "      <td>68.558480</td>\n",
       "      <td>106.50887</td>\n",
       "      <td>...</td>\n",
       "      <td>0</td>\n",
       "      <td>0</td>\n",
       "      <td>0</td>\n",
       "      <td>0</td>\n",
       "      <td>0</td>\n",
       "      <td>0.0</td>\n",
       "      <td>0</td>\n",
       "      <td>0</td>\n",
       "      <td>1</td>\n",
       "      <td>0</td>\n",
       "    </tr>\n",
       "    <tr>\n",
       "      <th>2</th>\n",
       "      <td>4</td>\n",
       "      <td>45</td>\n",
       "      <td>3</td>\n",
       "      <td>2</td>\n",
       "      <td>36</td>\n",
       "      <td>1</td>\n",
       "      <td>69</td>\n",
       "      <td>1.165153</td>\n",
       "      <td>68.755875</td>\n",
       "      <td>81.70236</td>\n",
       "      <td>...</td>\n",
       "      <td>0</td>\n",
       "      <td>0</td>\n",
       "      <td>0</td>\n",
       "      <td>0</td>\n",
       "      <td>0</td>\n",
       "      <td>0.0</td>\n",
       "      <td>0</td>\n",
       "      <td>0</td>\n",
       "      <td>1</td>\n",
       "      <td>0</td>\n",
       "    </tr>\n",
       "    <tr>\n",
       "      <th>3</th>\n",
       "      <td>2</td>\n",
       "      <td>45</td>\n",
       "      <td>15</td>\n",
       "      <td>2</td>\n",
       "      <td>36</td>\n",
       "      <td>0</td>\n",
       "      <td>62</td>\n",
       "      <td>5.010655</td>\n",
       "      <td>71.721250</td>\n",
       "      <td>94.96350</td>\n",
       "      <td>...</td>\n",
       "      <td>0</td>\n",
       "      <td>0</td>\n",
       "      <td>0</td>\n",
       "      <td>0</td>\n",
       "      <td>0</td>\n",
       "      <td>0.0</td>\n",
       "      <td>0</td>\n",
       "      <td>0</td>\n",
       "      <td>1</td>\n",
       "      <td>0</td>\n",
       "    </tr>\n",
       "    <tr>\n",
       "      <th>4</th>\n",
       "      <td>2</td>\n",
       "      <td>45</td>\n",
       "      <td>5</td>\n",
       "      <td>6</td>\n",
       "      <td>36</td>\n",
       "      <td>1</td>\n",
       "      <td>63</td>\n",
       "      <td>1.244071</td>\n",
       "      <td>73.296410</td>\n",
       "      <td>117.31879</td>\n",
       "      <td>...</td>\n",
       "      <td>0</td>\n",
       "      <td>0</td>\n",
       "      <td>0</td>\n",
       "      <td>0</td>\n",
       "      <td>0</td>\n",
       "      <td>0.0</td>\n",
       "      <td>1</td>\n",
       "      <td>0</td>\n",
       "      <td>1</td>\n",
       "      <td>0</td>\n",
       "    </tr>\n",
       "  </tbody>\n",
       "</table>\n",
       "<p>5 rows × 338 columns</p>\n",
       "</div>"
      ],
      "text/plain": [
       "   INSURANCE LANGUAGE RELIGION MARITAL_STATUS ETHNICITY  GENDER  AGE  \\\n",
       "0          4       45       19              2        36       0   14   \n",
       "1          3       45       19              6        36       0   73   \n",
       "2          4       45        3              2        36       1   69   \n",
       "3          2       45       15              2        36       0   62   \n",
       "4          2       45        5              6        36       1   63   \n",
       "\n",
       "        LOS  HR_MIN_DAY1  HR_MAX_DAY1 ...  90  91  92  93  94   95  96  97  \\\n",
       "0  2.542461    93.322235    123.16911 ...   0   0   0   0   0  0.0   0   0   \n",
       "1  1.145959    68.558480    106.50887 ...   0   0   0   0   0  0.0   0   0   \n",
       "2  1.165153    68.755875     81.70236 ...   0   0   0   0   0  0.0   0   0   \n",
       "3  5.010655    71.721250     94.96350 ...   0   0   0   0   0  0.0   0   0   \n",
       "4  1.244071    73.296410    117.31879 ...   0   0   0   0   0  0.0   1   0   \n",
       "\n",
       "   98  99  \n",
       "0   0   0  \n",
       "1   1   0  \n",
       "2   1   0  \n",
       "3   1   0  \n",
       "4   1   0  \n",
       "\n",
       "[5 rows x 338 columns]"
      ]
     },
     "execution_count": 79,
     "metadata": {},
     "output_type": "execute_result"
    }
   ],
   "source": [
    "X.head()"
   ]
  },
  {
   "cell_type": "code",
   "execution_count": 84,
   "metadata": {},
   "outputs": [],
   "source": [
    "from sklearn.model_selection import train_test_split\n",
    "\n",
    "X_train, X_test, y_train, y_test = train_test_split(X, y, train_size=0.7, test_size=0.3)"
   ]
  },
  {
   "cell_type": "markdown",
   "metadata": {},
   "source": [
    "## <a id=\"Baseline\"> III) Baseline model </a>  "
   ]
  },
  {
   "cell_type": "code",
   "execution_count": 85,
   "metadata": {},
   "outputs": [
    {
     "name": "stderr",
     "output_type": "stream",
     "text": [
      "/Library/Frameworks/Python.framework/Versions/3.5/lib/python3.5/site-packages/sklearn/utils/validation.py:578: DataConversionWarning: A column-vector y was passed when a 1d array was expected. Please change the shape of y to (n_samples, ), for example using ravel().\n",
      "  y = column_or_1d(y, warn=True)\n"
     ]
    },
    {
     "data": {
      "text/plain": [
       "LogisticRegression(C=1.0, class_weight=None, dual=False, fit_intercept=True,\n",
       "          intercept_scaling=1, max_iter=100, multi_class='ovr', n_jobs=1,\n",
       "          penalty='l2', random_state=None, solver='liblinear', tol=0.0001,\n",
       "          verbose=0, warm_start=False)"
      ]
     },
     "execution_count": 85,
     "metadata": {},
     "output_type": "execute_result"
    }
   ],
   "source": [
    "from sklearn.linear_model import LogisticRegression\n",
    "\n",
    "reg = LogisticRegression()\n",
    "reg.fit(X_train, y_train)"
   ]
  },
  {
   "cell_type": "code",
   "execution_count": 88,
   "metadata": {},
   "outputs": [
    {
     "data": {
      "text/plain": [
       "0.9654583333333333"
      ]
     },
     "execution_count": 88,
     "metadata": {},
     "output_type": "execute_result"
    }
   ],
   "source": [
    "from sklearn.metrics import accuracy_score\n",
    "\n",
    "prediction = reg.predict(X_test)\n",
    "accuracy_score(prediction, y_test)"
   ]
  },
  {
   "cell_type": "code",
   "execution_count": null,
   "metadata": {},
   "outputs": [],
   "source": []
  }
 ],
 "metadata": {
  "kernelspec": {
   "display_name": "Python 3",
   "language": "python",
   "name": "python3"
  },
  "language_info": {
   "codemirror_mode": {
    "name": "ipython",
    "version": 3
   },
   "file_extension": ".py",
   "mimetype": "text/x-python",
   "name": "python",
   "nbconvert_exporter": "python",
   "pygments_lexer": "ipython3",
   "version": "3.5.1"
  }
 },
 "nbformat": 4,
 "nbformat_minor": 2
}
